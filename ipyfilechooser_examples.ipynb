{
 "cells": [
  {
   "cell_type": "markdown",
   "metadata": {},
   "source": [
    "# ipyfilechooser examples"
   ]
  },
  {
   "cell_type": "code",
   "execution_count": null,
   "metadata": {},
   "outputs": [],
   "source": [
    "from ipyfilechooser import FileChooser\n",
    "import os\n",
    "\n",
    "# Create new FileChooser:\n",
    "# Path: current directory\n",
    "# File: test.txt\n",
    "# Title: <b>FileChooser example</b>\n",
    "# Show hidden files: no\n",
    "fdialog = FileChooser(\n",
    "    os.getcwd(),\n",
    "    filename='test.txt',\n",
    "    title='<b>FileChooser example</b>',\n",
    "    show_hidden=False\n",
    ")\n",
    "\n",
    "display(fdialog)"
   ]
  },
  {
   "cell_type": "code",
   "execution_count": null,
   "metadata": {},
   "outputs": [],
   "source": [
    "# Get the selected value\n",
    "fdialog.selected"
   ]
  },
  {
   "cell_type": "code",
   "execution_count": null,
   "metadata": {},
   "outputs": [],
   "source": [
    "# Set or change the title\n",
    "fdialog.title = 'Select the output file'"
   ]
  },
  {
   "cell_type": "code",
   "execution_count": null,
   "metadata": {},
   "outputs": [],
   "source": [
    "# Show hidden files and change rows to 10\n",
    "fdialog.show_hidden = True\n",
    "fdialog.rows = 10"
   ]
  },
  {
   "cell_type": "code",
   "execution_count": null,
   "metadata": {},
   "outputs": [],
   "source": [
    "# Change the default path and filename\n",
    "fdialog.default_path = os.path.abspath(os.path.join(os.getcwd(), '..'))\n",
    "fdialog.default_filename = 'foobar.txt'"
   ]
  },
  {
   "cell_type": "code",
   "execution_count": null,
   "metadata": {},
   "outputs": [],
   "source": [
    "# Reset to defaults and clear the selected value\n",
    "fdialog.reset()"
   ]
  },
  {
   "cell_type": "code",
   "execution_count": null,
   "metadata": {},
   "outputs": [],
   "source": [
    "# String representation\n",
    "print(fdialog)"
   ]
  },
  {
   "cell_type": "code",
   "execution_count": null,
   "metadata": {},
   "outputs": [],
   "source": [
    "# Print the version number\n",
    "import ipyfilechooser\n",
    "ipyfilechooser.__version__"
   ]
  },
  {
   "cell_type": "code",
   "execution_count": null,
   "outputs": [],
   "source": [
    "from ipyfilechooser import FileChooser\n",
    "fc = FileChooser('s:\\\\Jason Morgan\\\\emc', include_files=False)\n",
    "display(fc)"
   ],
   "metadata": {
    "collapsed": false,
    "pycharm": {
     "name": "#%%\n"
    }
   }
  }
 ],
 "metadata": {
  "kernelspec": {
   "display_name": "Python 3",
   "language": "python",
   "name": "python3"
  },
  "language_info": {
   "codemirror_mode": {
    "name": "ipython",
    "version": 3
   },
   "file_extension": ".py",
   "mimetype": "text/x-python",
   "name": "python",
   "nbconvert_exporter": "python",
   "pygments_lexer": "ipython3",
   "version": "3.7.2"
  },
  "pycharm": {
   "stem_cell": {
    "cell_type": "raw",
    "source": [],
    "metadata": {
     "collapsed": false
    }
   }
  }
 },
 "nbformat": 4,
 "nbformat_minor": 2
}